{
 "cells": [
  {
   "cell_type": "code",
   "execution_count": 1,
   "metadata": {},
   "outputs": [],
   "source": [
    "import numpy as np\n",
    "import tifffile\n",
    "import pandas\n",
    "import matplotlib.pyplot as plt\n",
    "\n",
    "import griottes\n",
    "import griottes.analyse\n",
    "import griottes.graphmaker\n",
    "\n",
    "from griottes.graphmaker import make_spheroids\n",
    "from griottes.graphmaker import graph_generation_func\n",
    "from griottes.graphplotter import graph_plot"
   ]
  },
  {
   "cell_type": "markdown",
   "metadata": {},
   "source": [
    "# 1. Measuring the cell properties\n",
    "\n",
    "Here we introduce the first function from [Griottes](https://github.com/BaroudLab/Griottes). The role of this function is to analyze the labeled image `labeled_image`. \n",
    "\n",
    "You can download a sample image named `sample_image.tiff` from [here](https://drive.google.com/file/d/1XBxLsltppXR-1uRSej1gLtQ_gmXITEd1/view?usp=sharing) and place it into the current folder. Please feel free to contact the repository maintainer if you encounter an issue."
   ]
  },
  {
   "cell_type": "markdown",
   "metadata": {},
   "source": [
    "The example image you have downloaded above is a 3D multi-channel image where the 4th channel corresponds to the mask labels designating individual cells. The current library is made to work on 2D and 3D images, with and without the fluorescence channels in the image. The only key criterion is that the channels are ordered in the following order: **Z,X,Y,C**. For example, let's extract the cell positions from a 2D image:"
   ]
  },
  {
   "cell_type": "code",
   "execution_count": null,
   "metadata": {},
   "outputs": [],
   "source": [
    "labeled_image = tifffile.imread('sample_image.tiff')\n",
    "labeled_image = labeled_image[2,...]"
   ]
  },
  {
   "cell_type": "markdown",
   "metadata": {},
   "source": [
    "The image is a multi-channel marking for specific biologically relevant markers."
   ]
  },
  {
   "cell_type": "code",
   "execution_count": null,
   "metadata": {},
   "outputs": [],
   "source": [
    "fig, ax = plt.subplots(1,5, figsize = (10,3))\n",
    "\n",
    "ax[0].imshow(labeled_image[...,0])\n",
    "ax[0].axis('off')\n",
    "ax[0].set_title('DAPI')\n",
    "\n",
    "ax[1].imshow(labeled_image[...,1])\n",
    "ax[1].axis('off')\n",
    "ax[1].set_title('CD45')\n",
    "\n",
    "ax[2].imshow(labeled_image[...,2])\n",
    "ax[2].axis('off')\n",
    "ax[2].set_title('c-Kit')\n",
    "\n",
    "ax[3].imshow(labeled_image[...,3])\n",
    "ax[3].axis('off')\n",
    "ax[3].set_title('Ter 119')\n",
    "\n",
    "ax[4].imshow(labeled_image[...,4])\n",
    "ax[4].axis('off')\n",
    "ax[4].set_title('labels')\n"
   ]
  },
  {
   "cell_type": "markdown",
   "metadata": {},
   "source": [
    "The full list of options is available by typing:\n",
    "\n",
    "```\n",
    "help(griottes.analyse.cell_property_extraction.get_cell_properties)\n",
    "\n",
    "```\n",
    "\n",
    "Here we extract the data from the segmented image only:"
   ]
  },
  {
   "cell_type": "code",
   "execution_count": null,
   "metadata": {},
   "outputs": [],
   "source": [
    "prop_2D = griottes.analyse.cell_property_extraction.get_cell_properties(\n",
    "    labeled_image,\n",
    "    mask_channel = 4,\n",
    "    analyze_fluo_channels = True,\n",
    "    fluo_channel_analysis_method = 'basic',\n",
    "    radius = 30,\n",
    "    min_area = 50,\n",
    "    ndim = 2\n",
    "    )"
   ]
  },
  {
   "cell_type": "markdown",
   "metadata": {},
   "source": [
    "We can also extract more complex pieces of information from the images. Here for example we build a voronoi tesselation separating the volume into different regions for each cell on a 3D image. We also extract the intensities from inside the regions and the geometric properties of the cell nuclei."
   ]
  },
  {
   "cell_type": "code",
   "execution_count": null,
   "metadata": {},
   "outputs": [],
   "source": [
    "labeled_image = tifffile.imread('sample_image.tiff')\n",
    "\n",
    "prop_vor, vor = griottes.analyse.cell_property_extraction.get_cell_properties(\n",
    "    labeled_image,\n",
    "    mask_channel = 3,\n",
    "    analyze_fluo_channels = True,\n",
    "    fluo_channel_analysis_method = 'local_voronoi',\n",
    "    cell_geometry_properties = True,\n",
    "    radius = 30,\n",
    "    labeled_voronoi_tesselation = True,\n",
    "    percentile = 95,\n",
    "    min_area = 50\n",
    "    )"
   ]
  },
  {
   "cell_type": "markdown",
   "metadata": {},
   "source": [
    "# 2. Building the tissue graph from the data\n",
    "\n",
    "We now build the graph representing the tissue proper using [Griottes](https://github.com/BaroudLab/Griottes).\n",
    " \n",
    "### Constructing the spheroid graph\n",
    " \n",
    "For example, to build a networkx object strait away from the labeled mask containing the individual cells:"
   ]
  },
  {
   "cell_type": "code",
   "execution_count": null,
   "metadata": {},
   "outputs": [],
   "source": [
    "labeled_image = tifffile.imread('sample_image.tiff')\n",
    "labeled_image = labeled_image[2,..., 4]\n",
    "\n",
    "G = graph_generation_func.generate_voronoi_graph(labeled_image,\n",
    "                                                 dCells = 50)"
   ]
  },
  {
   "cell_type": "markdown",
   "metadata": {},
   "source": [
    "For more complex outputs, the DataFrame containing the cell information can be passed as an entry. For the purpose of the example, we arbitrarily assign a color to the cells based on the relative intensity levels in a given channel. The `color` descriptor has to be any accepted Matplotlib color."
   ]
  },
  {
   "cell_type": "code",
   "execution_count": null,
   "metadata": {},
   "outputs": [],
   "source": [
    "descriptors = ['mean_intensity_1', 'color']\n",
    "\n",
    "color_scheme = ['r', 'g']\n",
    "prop_2D['color_int'] = (prop_2D.mean_intensity_3 > prop_2D.mean_intensity_3.median()).astype(int)\n",
    "prop_2D['color'] = [color_scheme[prop_2D.loc[i, 'color_int']] for i in prop_2D.index]\n",
    "\n",
    "G = graph_generation_func.generate_voronoi_graph(prop_2D, \n",
    "                                                 cell_descriptors = descriptors, \n",
    "                                                 dCells = 50,\n",
    "                                                 flat_image = True)\n",
    "\n",
    "G = graph_generation_func.attribute_layer(G, flat_image = True)\n"
   ]
  },
  {
   "cell_type": "markdown",
   "metadata": {},
   "source": [
    "Once the graph has been built, we can plot the spheroid using the plotting functions from the library."
   ]
  },
  {
   "cell_type": "code",
   "execution_count": null,
   "metadata": {},
   "outputs": [],
   "source": [
    "graph_plot.network_plot_2D(G, \n",
    "                           background_image = labeled_image,\n",
    "                           figsize = (5,5))"
   ]
  }
 ],
 "metadata": {
  "kernelspec": {
   "display_name": "Python 3",
   "language": "python",
   "name": "python3"
  },
  "language_info": {
   "codemirror_mode": {
    "name": "ipython",
    "version": 3
   },
   "file_extension": ".py",
   "mimetype": "text/x-python",
   "name": "python",
   "nbconvert_exporter": "python",
   "pygments_lexer": "ipython3",
   "version": "3.8.5"
  }
 },
 "nbformat": 4,
 "nbformat_minor": 5
}
