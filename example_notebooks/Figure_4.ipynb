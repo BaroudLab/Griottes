{
 "cells": [
  {
   "cell_type": "code",
   "execution_count": null,
   "id": "2e472735-ee40-462b-a426-52f399e7d0b8",
   "metadata": {},
   "outputs": [],
   "source": [
    "import numpy as np\n",
    "import pandas\n",
    "import matplotlib.pyplot as plt\n",
    "import seaborn as sns\n",
    "import matplotlib as mpl\n",
    "from matplotlib import colors\n",
    "\n",
    "import griottes\n"
   ]
  },
  {
   "cell_type": "markdown",
   "id": "58a13f69-b8bc-4fb8-8012-a85277fc8684",
   "metadata": {},
   "source": [
    "# Read files with cell types\n",
    "\n",
    "We doanload the single cell data provided by manual analysis."
   ]
  },
  {
   "cell_type": "code",
   "execution_count": null,
   "id": "reverse-harmony",
   "metadata": {},
   "outputs": [],
   "source": [
    "import urllib3\n",
    "import shutil\n",
    "\n",
    "url = 'https://github.com/BaroudLab/Griottes/releases/download/v1.0-alpha/zebrafish_cell_properties.csv'\n",
    "filename = 'zebrafish_cell_properties.csv'\n",
    "\n",
    "c = urllib3.PoolManager()\n",
    "\n",
    "with c.request('GET',url, preload_content=False) as resp, open(filename, 'wb') as out_file:\n",
    "    shutil.copyfileobj(resp, out_file)\n",
    "\n",
    "resp.release_conn()"
   ]
  },
  {
   "cell_type": "code",
   "execution_count": null,
   "id": "peripheral-adventure",
   "metadata": {},
   "outputs": [],
   "source": [
    "zebrafish_cell_properties = pandas.read_csv('zebrafish_cell_properties.csv')"
   ]
  },
  {
   "cell_type": "markdown",
   "id": "cutting-jacksonville",
   "metadata": {},
   "source": [
    "For illustration purposes, we assign different colors to the different cell types:"
   ]
  },
  {
   "cell_type": "code",
   "execution_count": null,
   "id": "sunset-spirituality",
   "metadata": {},
   "outputs": [],
   "source": [
    "n_colors = len(zebrafish_cell_properties.cell_type.unique())\n",
    "color_list = [plt.cm.Set3(i) for i in range(n_colors)]\n",
    "colors = [color_list[zebrafish_cell_properties.loc[i, 'cell_type']] for i in range(len(zebrafish_cell_properties))]\n",
    "\n",
    "zebrafish_cell_properties['color'] = colors\n",
    "zebrafish_cell_properties['legend'] = zebrafish_cell_properties['cell_properties']"
   ]
  },
  {
   "cell_type": "markdown",
   "id": "e4f58c8f-94b4-45b6-aa31-83cd44b79fdb",
   "metadata": {},
   "source": [
    "# Create Delaunay network\n",
    "\n",
    "We have prepared `new_prop`, the dataframe containing the relevant single-cell data information. It is provided as an input to `griottes` which then generates a Delaunay network. "
   ]
  },
  {
   "cell_type": "code",
   "execution_count": null,
   "id": "5c615bc5-7807-4209-ad8a-b1ef9b3a2c24",
   "metadata": {},
   "outputs": [],
   "source": [
    "descriptors = ['label', 'cell_type', 'color', 'legend', 'x', 'y', 'z','cell_properties']"
   ]
  },
  {
   "cell_type": "code",
   "execution_count": null,
   "id": "3d1d6259-abe0-4ecb-9545-4f6e884ada1c",
   "metadata": {
    "tags": []
   },
   "outputs": [],
   "source": [
    "G = griottes.generate_delaunay_graph(zebrafish_cell_properties, \n",
    "                                                 descriptors = descriptors, \n",
    "                                                 distance=35,\n",
    "                                                 )"
   ]
  },
  {
   "cell_type": "markdown",
   "id": "artistic-instruction",
   "metadata": {},
   "source": [
    "The generated network can be visualised using specific network visualisation tools:"
   ]
  },
  {
   "cell_type": "code",
   "execution_count": null,
   "id": "3b16985e-41ff-49a0-9be9-abe8cfc2dd71",
   "metadata": {
    "tags": []
   },
   "outputs": [],
   "source": [
    "griottes.plot_2D(G,\n",
    "                alpha_line = 0.6,\n",
    "                scatterpoint_size = 8,\n",
    "                legend = True,\n",
    "                legend_fontsize = 14,\n",
    "                figsize = (7,7))\n",
    "\n",
    "plt.tight_layout()"
   ]
  },
  {
   "cell_type": "code",
   "execution_count": null,
   "id": "cd3c56f4",
   "metadata": {},
   "outputs": [],
   "source": []
  }
 ],
 "metadata": {
  "kernelspec": {
   "display_name": "Python 3",
   "language": "python",
   "name": "python3"
  },
  "language_info": {
   "codemirror_mode": {
    "name": "ipython",
    "version": 3
   },
   "file_extension": ".py",
   "mimetype": "text/x-python",
   "name": "python",
   "nbconvert_exporter": "python",
   "pygments_lexer": "ipython3",
   "version": "3.9.7"
  }
 },
 "nbformat": 4,
 "nbformat_minor": 5
}
