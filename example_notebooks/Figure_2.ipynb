{
 "cells": [
  {
   "cell_type": "code",
   "execution_count": null,
   "id": "b4a9092c-1761-475f-8f2d-065cbd707e50",
   "metadata": {},
   "outputs": [],
   "source": [
    "import tifffile\n",
    "from griottes import generate_contact_graph, generate_geometric_graph, plot_2D\n"
   ]
  },
  {
   "cell_type": "markdown",
   "id": "db9da084-9979-4a36-92ec-0878df66b54f",
   "metadata": {},
   "source": [
    "# Load image and mask of nuclei\n",
    "\n",
    "First download the image from the latest release of `Griottes`."
   ]
  },
  {
   "cell_type": "code",
   "execution_count": null,
   "id": "eight-novelty",
   "metadata": {},
   "outputs": [],
   "source": [
    "import urllib3\n",
    "import shutil\n",
    "import os\n",
    "\n",
    "url = 'https://github.com/BaroudLab/Griottes/releases/download/v1.0-alpha/zebrafish_brain_cell_labels.tiff'\n",
    "filename = 'zebrafish_brain_cell_labels.tiff'\n",
    "\n",
    "if not os.path.exists(filename):\n",
    "    c = urllib3.PoolManager()\n",
    "\n",
    "    with c.request('GET',url, preload_content=False) as resp, open(filename, 'wb') as out_file:\n",
    "        shutil.copyfileobj(resp, out_file)\n",
    "\n",
    "    resp.release_conn()\n",
    "else:\n",
    "    print('dataset already exists')"
   ]
  },
  {
   "cell_type": "markdown",
   "id": "dynamic-egypt",
   "metadata": {},
   "source": [
    "We then load the image to generate the different graphs from it."
   ]
  },
  {
   "cell_type": "code",
   "execution_count": null,
   "id": "e0e3c896-237f-44bf-a78a-520e2d52bab3",
   "metadata": {},
   "outputs": [],
   "source": [
    "image = tifffile.imread(filename)\n",
    "image.shape"
   ]
  },
  {
   "cell_type": "markdown",
   "id": "aa4f17f8-b7d9-4428-a968-6c7c0e93eb80",
   "metadata": {},
   "source": [
    "# Generating a contact graph\n",
    "\n",
    "From the masks of the complete cells we can build the contact graph of the network, connecting together cells sharing a common border."
   ]
  },
  {
   "cell_type": "code",
   "execution_count": null,
   "id": "inappropriate-sailing",
   "metadata": {},
   "outputs": [],
   "source": [
    "G_contact = generate_contact_graph(image[..., 4],\n",
    "                                                 analyze_fluo_channels=False, \n",
    "                                                 radius = 100)"
   ]
  },
  {
   "cell_type": "code",
   "execution_count": 4,

   "id": "forbidden-found",
   "metadata": {},
   "outputs": [],
   "source": [
    "G_geometric = generate_geometric_graph(image[..., 4],\n",
    "                                                 analyze_fluo_channels=False,\n",
    "                                                 cell_cell_distance = 200,\n",
    "                                                 radius = 100)"
   ]
  },
  {
   "cell_type": "markdown",
   "id": "sought-federal",
   "metadata": {},
   "source": [
    "## Plotting a representation of the graph\n",
    "\n",
    "From the graph `G` it is possible to plot a visual representation of the network. NetworkX has several plotting functions available for representing graphs, however `Griottes` contains several specific plotting functions adapted for the network representation of tisssues. These functions are called through the `graph_plot` module."
   ]
  },
  {
   "cell_type": "code",
   "execution_count": null,
   "id": "inner-manual",
   "metadata": {},
   "outputs": [],
   "source": [
    "plot_2D(G_geometric,\n",
    "                background_image=image[...,1],\n",
    "                figsize = (5,5),\n",
    "                alpha_line = 1,\n",
    "                scatterpoint_size = 18,\n",
    "                edge_color = 'w',\n",
    "                line_factor = 1)"
   ]
  },
  {
   "cell_type": "markdown",
   "id": "bearing-flash",
   "metadata": {},
   "source": [
    "Adding the `background_image` variable allows to plot the network on to the tissue image of your choice. Here we do it with the contact graph:"
   ]
  },
  {
   "cell_type": "code",
   "execution_count": null,
   "id": "surface-pioneer",
   "metadata": {},
   "outputs": [],
   "source": [
    "graph_plot.network_plot_2D(G_contact,\n",
    "                background_image = image[:, :,1],\n",
    "                figsize = (5,5),\n",
    "                alpha_line = 1,\n",
    "                scatterpoint_size = 18,\n",
    "                legend = True,\n",
    "                weights = False,\n",
    "                edge_color = 'w',\n",
    "                line_factor = 0.15)"
   ]
  },
  {
   "cell_type": "markdown",
   "id": "turkish-amount",
   "metadata": {},
   "source": [
    "We can use the information contained within the masks to extract the shared border size. This is reflected within the network by weighted links. The thicker the edge connecting two nodes, the bigger the shared membrane. To add variable weights, just change the `weights` to `True`."
   ]
  },
  {
   "cell_type": "code",
   "execution_count": null,
   "id": "lucky-translator",
   "metadata": {},
   "outputs": [],
   "source": [
    "plot_2D(G_contact,\n",
    "                background_image = image[:, :,1],\n",
    "                figsize = (5,5),\n",
    "                alpha_line = .5,\n",
    "                scatterpoint_size = 10,\n",
    "                legend = True,\n",
    "                edge_color = 'w',\n",
    "                line_factor = 0.15)"
   ]
  }
 ],
 "metadata": {
  "kernelspec": {
   "display_name": "Python 3",
   "language": "python",
   "name": "python3"
  },
  "language_info": {
   "codemirror_mode": {
    "name": "ipython",
    "version": 3
   },
   "file_extension": ".py",
   "mimetype": "text/x-python",
   "name": "python",
   "nbconvert_exporter": "python",
   "pygments_lexer": "ipython3",
   "version": "3.8.3"
  }
 },
 "nbformat": 4,
 "nbformat_minor": 5
}
