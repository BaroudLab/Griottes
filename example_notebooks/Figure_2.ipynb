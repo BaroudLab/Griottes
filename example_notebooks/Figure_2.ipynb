{
 "cells": [
  {
   "cell_type": "code",
   "execution_count": 7,
   "metadata": {},
   "outputs": [],
   "source": [
    "import tifffile\n",
    "import pandas\n",
    "from griottes import generate_contact_graph, generate_delaunay_graph, generate_geometric_graph, plot_2D\n",
    "\n",
    "import urllib3\n",
    "import shutil\n",
    "import os\n",
    "\n",
    "import matplotlib.pyplot as plt\n",
    "import seaborn as sns"
   ]
  },
  {
   "cell_type": "markdown",
   "metadata": {},
   "source": [
    "# Load image and mask of nuclei\n",
    "\n",
    "First download the image from the latest release of `Griottes`."
   ]
  },
  {
   "cell_type": "code",
   "execution_count": null,
   "metadata": {},
   "outputs": [],
   "source": [
    "url = 'https://github.com/BaroudLab/Griottes/releases/download/v1.0-alpha/zebrafish_brain_cell_labels.tiff'\n",
    "filename = 'zebrafish_brain_cell_labels.tiff'\n",
    "\n",
    "if not os.path.exists(filename):\n",
    "    c = urllib3.PoolManager()\n",
    "\n",
    "    with c.request('GET',url, preload_content=False) as resp, open(filename, 'wb') as out_file:\n",
    "        shutil.copyfileobj(resp, out_file)\n",
    "\n",
    "    resp.release_conn()\n",
    "else:\n",
    "    print('dataset already exists')"
   ]
  },
  {
   "cell_type": "markdown",
   "metadata": {},
   "source": [
    "We then load the image to generate the different graphs from it."
   ]
  },
  {
   "cell_type": "code",
   "execution_count": null,
   "metadata": {},
   "outputs": [],
   "source": [
    "image = tifffile.imread(filename)\n",
    "image.shape"
   ]
  },
  {
   "cell_type": "markdown",
   "metadata": {},
   "source": [
    "# Generating a contact graph\n",
    "\n",
    "From the masks of the complete cells we can build the contact graph of the network, connecting together cells sharing a common border."
   ]
  },
  {
   "cell_type": "code",
   "execution_count": null,
   "metadata": {},
   "outputs": [],
   "source": [
    "G_contact = generate_contact_graph(image[..., 4],\n",
    "                                                 analyze_fluo_channels=False, \n",
    "                                                 radius = 100)"
   ]
  },
  {
   "cell_type": "code",
   "execution_count": null,
   "metadata": {},
   "outputs": [],
   "source": [
    "G_geometric = generate_geometric_graph(image[..., 4],\n",
    "                                                 analyze_fluo_channels=False,\n",
    "                                                 image_is_2D = True,\n",
    "                                                 distance=75)"
   ]
  },
  {
   "cell_type": "code",
   "execution_count": null,
   "metadata": {},
   "outputs": [],
   "source": [
    "G_delaunay = generate_delaunay_graph(image[..., 4],\n",
    "                                                 analyze_fluo_channels=False,\n",
    "                                                 image_is_2D = True,\n",
    "                                                 distance=75)"
   ]
  },
  {
   "cell_type": "markdown",
   "metadata": {},
   "source": [
    "## Plotting a representation of the graph\n",
    "\n",
    "From the graph `G` it is possible to plot a visual representation of the network. NetworkX has several plotting functions available for representing graphs, however `Griottes` contains several specific plotting functions adapted for the network representation of tisssues. These functions are called through the `graph_plot` module."
   ]
  },
  {
   "cell_type": "code",
   "execution_count": null,
   "metadata": {},
   "outputs": [],
   "source": [
    "plot_2D(G_geometric,\n",
    "                background_image=image[...,1],\n",
    "                figsize = (5,5),\n",
    "                alpha_line = 1,\n",
    "                scatterpoint_size = 18,\n",
    "                edge_color = 'w',\n",
    "                line_factor = 1)\n",
    "\n",
    "plot_2D(G_delaunay,\n",
    "                background_image=image[...,1],\n",
    "                figsize = (5,5),\n",
    "                alpha_line = 1,\n",
    "                scatterpoint_size = 18,\n",
    "                edge_color = 'w',\n",
    "                line_factor = 1)"
   ]
  },
  {
   "cell_type": "markdown",
   "metadata": {},
   "source": [
    "Adding the `background_image` variable allows to plot the network on to the tissue image of your choice. Here we do it with the contact graph:"
   ]
  },
  {
   "cell_type": "code",
   "execution_count": null,
   "metadata": {},
   "outputs": [],
   "source": [
    "plot_2D(G_contact,\n",
    "                background_image = image[:, :,1],\n",
    "                figsize = (5,5),\n",
    "                alpha_line = .5,\n",
    "                scatterpoint_size = 10,\n",
    "                legend = True,\n",
    "                edge_color = 'w',\n",
    "                line_factor = 0.15)"
   ]
  },
  {
   "cell_type": "markdown",
   "metadata": {},
   "source": [
    "# Estimating the properties of the generated graphs\n",
    "\n",
    "From the individual graphs we can then compute different statistics recapitulated in Figure 2. We use the methods of the `NetworkX` library to access relevant properties of individual nodes/cells in the tissue."
   ]
  },
  {
   "cell_type": "code",
   "execution_count": 9,
   "metadata": {},
   "outputs": [],
   "source": [
    "url = 'https://github.com/BaroudLab/Griottes/releases/download/v1.0-alpha/zebrafish_brain_cell_labels_whole_cut.tiff'\n",
    "filename = 'zebrafish_brain_cell_labels_whole_cut.tiff'\n",
    "\n",
    "if not os.path.exists(filename):\n",
    "    c = urllib3.PoolManager()\n",
    "\n",
    "    with c.request('GET',url, preload_content=False) as resp, open(filename, 'wb') as out_file:\n",
    "        shutil.copyfileobj(resp, out_file)\n",
    "\n",
    "    resp.release_conn()\n",
    "else:\n",
    "    print('dataset already exists')"
   ]
  },
  {
   "cell_type": "code",
   "execution_count": 10,
   "metadata": {},
   "outputs": [
    {
     "name": "stdout",
     "output_type": "stream",
     "text": [
      "The input image has 2 dimensions, it will be analyzed as a labeled image.\n",
      "The input image has 2 dimensions, it will be analyzed as a labeled image.\n",
      "The input image has 2 dimensions, it will be analyzed as a labeled image.\n"
     ]
    }
   ],
   "source": [
    "image = tifffile.imread(filename)\n",
    "\n",
    "descriptors = ['label', 'x', 'y']\n",
    "\n",
    "G_contact = generate_contact_graph(image[..., 4],\n",
    "                                   descriptors = descriptors,\n",
    "                                   analyze_fluo_channels=False, \n",
    "                                   radius = 100)\n",
    "\n",
    "G_geometric = generate_geometric_graph(image[..., 4],\n",
    "                                   descriptors = descriptors,\n",
    "                                   analyze_fluo_channels=False, \n",
    "                                   radius = 100)\n",
    "\n",
    "G_delaunay = generate_delaunay_graph(image[..., 4],\n",
    "                                   descriptors = descriptors,\n",
    "                                   analyze_fluo_channels=False, \n",
    "                                   radius = 100)"
   ]
  },
  {
   "cell_type": "markdown",
   "metadata": {},
   "source": [
    "For instance, we can compare the different neighborhoods generated for each cell as a function of the network construction method. Cell by cell we compare the degrees, using the contact-based properties as a ground truth: "
   ]
  },
  {
   "cell_type": "code",
   "execution_count": 11,
   "metadata": {},
   "outputs": [],
   "source": [
    "degree_array = pandas.DataFrame()\n",
    "j = 0\n",
    "\n",
    "for node in G_contact.nodes():\n",
    "    \n",
    "    label = G_contact.nodes[node]['label']\n",
    "    \n",
    "    if label > 0:\n",
    "    \n",
    "        node_in_geometric_graph = [i for i in G_geometric.nodes() if G_geometric.nodes[i]['label'] == label][0]\n",
    "        node_in_delaunay_graph = [i for i in G_delaunay.nodes() if G_delaunay.nodes[i]['label'] == label][0]\n",
    "\n",
    "        degree_array.loc[j, 'node'] = node\n",
    "        degree_array.loc[j, 'label'] = label\n",
    "        degree_array.loc[j, 'degree_contact'] = G_contact.degree[node]\n",
    "        degree_array.loc[j, 'degree_geometric'] = G_geometric.degree[node_in_geometric_graph]\n",
    "        degree_array.loc[j, 'degree_voronoi'] = G_delaunay.degree[node_in_delaunay_graph]\n",
    "\n",
    "        j += 1"
   ]
  },
  {
   "cell_type": "code",
   "execution_count": 12,
   "metadata": {},
   "outputs": [
    {
     "data": {
      "image/png": "[encoded data removed]",
      "text/plain": [
       "<Figure size 792x216 with 3 Axes>"
      ]
     },
     "metadata": {
      "needs_background": "light"
     },
     "output_type": "display_data"
    }
   ],
   "source": [
    "fig, ax = plt.subplots(1,3,figsize = (11,3), sharex = True, sharey = True)\n",
    "ax[0].tick_params(axis='both', which='major', labelsize=14)\n",
    "ax[0].tick_params(axis='both', which='minor', labelsize=14)\n",
    "ax[1].tick_params(axis='both', which='minor', labelsize=14)\n",
    "ax[1].tick_params(axis='both', which='major', labelsize=14)\n",
    "ax[2].tick_params(axis='both', which='minor', labelsize=14)\n",
    "ax[2].tick_params(axis='both', which='major', labelsize=14)\n",
    "\n",
    "ax[0] = sns.histplot(data = degree_array,\n",
    "             x = 'degree_contact',\n",
    "             binwidth = 1,\n",
    "             ax = ax[0], kde=False, stat = 'probability')\n",
    "\n",
    "ax[1] = sns.histplot(data = degree_array,\n",
    "             x = 'degree_voronoi',\n",
    "             binwidth = 1,\n",
    "             ax = ax[1], kde=False, stat = 'probability')\n",
    "\n",
    "ax[2] = sns.histplot(data = degree_array,\n",
    "             x = 'degree_geometric',\n",
    "             binwidth = 1,\n",
    "             ax = ax[2], kde=False, stat = 'probability')\n",
    "\n",
    "ax[0].set_ylabel('Probability', fontsize = 15)\n",
    "\n",
    "ax[0].set_xlabel('Degree', fontsize = 15)\n",
    "ax[1].set_xlabel('Degree', fontsize = 15)\n",
    "ax[2].set_xlabel('Degree', fontsize = 15)\n",
    "\n",
    "ax[0].set_title('Contact', fontsize = 15)\n",
    "ax[1].set_title('Delaunay', fontsize = 15)\n",
    "ax[2].set_title('Geometric', fontsize = 15)\n",
    "\n",
    "plt.tight_layout()"
   ]
  },
  {
   "cell_type": "markdown",
   "metadata": {},
   "source": [
    "The importance of cell-cell contacts (\"weights\") are contained within the contact-based graph generated by the `generate_contact_graph` method. We can access all the individual weights using `NetworkX` and plot the distribution of cell-cell contacts in the tissue:"
   ]
  },
  {
   "cell_type": "code",
   "execution_count": 13,
   "metadata": {},
   "outputs": [
    {
     "data": {
      "image/png": "[encoded data removed]",
      "text/plain": [
       "<Figure size 360x216 with 1 Axes>"
      ]
     },
     "metadata": {
      "needs_background": "light"
     },
     "output_type": "display_data"
    }
   ],
   "source": [
    "weight_frame = pandas.DataFrame()\n",
    "i = 0\n",
    "\n",
    "for u,v,a in G_contact.edges(data=True):\n",
    "    \n",
    "    weight_frame.loc[i, 'weight'] = a['weight']\n",
    "    i += 1\n",
    "    \n",
    "fig, ax = plt.subplots(1,1,figsize = (5,3), sharex = True, sharey = True)\n",
    "ax.tick_params(axis='both', which='major', labelsize=14)\n",
    "ax.tick_params(axis='both', which='minor', labelsize=14)\n",
    "\n",
    "ax = sns.histplot(data = weight_frame,\n",
    "             x = 'weight',\n",
    "             binwidth = 5,\n",
    "             ax = ax, kde=False, stat = 'probability')\n",
    "\n",
    "ax.set_ylabel('Probability', fontsize = 15)\n",
    "ax.set_xlabel('Link weight (A.U.)', fontsize = 15)\n",
    "\n",
    "plt.tight_layout()"
   ]
  }
 ],
 "metadata": {
  "kernelspec": {
   "display_name": "Python 3",
   "language": "python",
   "name": "python3"
  },
  "language_info": {
   "codemirror_mode": {
    "name": "ipython",
    "version": 3
   },
   "file_extension": ".py",
   "mimetype": "text/x-python",
   "name": "python",
   "nbconvert_exporter": "python",
   "pygments_lexer": "ipython3",
   "version": "3.8.5"
  }
 },
 "nbformat": 4,
 "nbformat_minor": 5
}
