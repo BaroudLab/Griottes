{
 "cells": [
  {
   "cell_type": "code",
   "execution_count": 1,
   "metadata": {},
   "outputs": [],
   "source": [
    "import tifffile\n",
    "import pandas\n",
    "\n",
    "from griottes.analyse import cell_property_extraction\n",
    "from griottes.graphmaker import graph_generation_func\n",
    "from griottes.graphplotter import graph_plot\n",
    "import griottes\n",
    "\n",
    "import numpy as np\n",
    "import matplotlib.pyplot as plt\n",
    "import pandas as pd"
   ]
  },
  {
   "cell_type": "markdown",
   "metadata": {},
   "source": [
    "# Load image and mask of nuclei\n",
    "\n",
    "From the image we can extract the single cell information. For the analysis, it is necessary that the channels be structured as $Z \\times X \\times Y \\times C$, where $C$ is the fluorescence channels in a multi-channel image.\n",
    "\n",
    "The file `total_image.tiff` can be downloaded from by executing the box below."
   ]
  },
  {
   "cell_type": "code",
   "execution_count": 5,
   "metadata": {},
   "outputs": [],
   "source": [
    "import urllib3\n",
    "import shutil\n",
    "import os\n",
    "\n",
    "url = 'https://github.com/BaroudLab/Griottes/releases/download/v1.0-alpha/3D_spheroid_multichannel_image.tif'\n",
    "filename = '3D_spheroid_multichannel_image.tiff'\n",
    "\n",
    "if not os.path.exists(filename):\n",
    "\n",
    "    c = urllib3.PoolManager()\n",
    "\n",
    "    with c.request('GET',url, preload_content=False) as resp, open(filename, 'wb') as out_file:\n",
    "        shutil.copyfileobj(resp, out_file)\n",
    "\n",
    "    resp.release_conn()\n",
    "    \n",
    "assert os.path.exists(filename)"
   ]
  },
  {
   "cell_type": "markdown",
   "metadata": {},
   "source": [
    "# Extract single-cell information from the image"
   ]
  },
  {
   "cell_type": "code",
   "execution_count": 9,
   "metadata": {},
   "outputs": [
    {
     "data": {
      "text/plain": [
       "(4, 513, 512, 512)"
      ]
     },
     "execution_count": 9,
     "metadata": {},
     "output_type": "execute_result"
    }
   ],
   "source": [
    "spheroid_image = tifffile.imread('3D_spheroid_multichannel_image.tiff')\n",
    "\n",
    "spheroid_image.shape"
   ]
  },
  {
   "cell_type": "code",
   "execution_count": 10,
   "metadata": {},
   "outputs": [
    {
     "name": "stdout",
     "output_type": "stream",
     "text": [
      "Calculating geometrical properties\n"
     ]
    },
    {
     "name": "stderr",
     "output_type": "stream",
     "text": [
      "  0%|          | 0/57 [00:00<?, ?it/s]/Users/gustaveronteix/anaconda3/lib/python3.8/site-packages/griottes/analyse/cell_property_extraction.py:75: RuntimeWarning: divide by zero encountered in double_scalars\n",
      "  properties.loc[ind, \"eccentricity\"] = np.abs(var[0]) / np.sqrt(\n",
      "  4%|▎         | 2/57 [00:00<00:06,  8.65it/s]/Users/gustaveronteix/anaconda3/lib/python3.8/site-packages/griottes/analyse/cell_property_extraction.py:75: RuntimeWarning: divide by zero encountered in double_scalars\n",
      "  properties.loc[ind, \"eccentricity\"] = np.abs(var[0]) / np.sqrt(\n",
      "/Users/gustaveronteix/anaconda3/lib/python3.8/site-packages/griottes/analyse/cell_property_extraction.py:75: RuntimeWarning: divide by zero encountered in double_scalars\n",
      "  properties.loc[ind, \"eccentricity\"] = np.abs(var[0]) / np.sqrt(\n",
      "/Users/gustaveronteix/anaconda3/lib/python3.8/site-packages/griottes/analyse/cell_property_extraction.py:75: RuntimeWarning: divide by zero encountered in double_scalars\n",
      "  properties.loc[ind, \"eccentricity\"] = np.abs(var[0]) / np.sqrt(\n",
      " 18%|█▊        | 10/57 [00:00<00:04, 11.72it/s]/Users/gustaveronteix/anaconda3/lib/python3.8/site-packages/griottes/analyse/cell_property_extraction.py:75: RuntimeWarning: divide by zero encountered in double_scalars\n",
      "  properties.loc[ind, \"eccentricity\"] = np.abs(var[0]) / np.sqrt(\n",
      "3it [00:00, 29.01it/s]                         "
     ]
    },
    {
     "name": "stdout",
     "output_type": "stream",
     "text": [
      "Done geometrical properties\n",
      "Calculating voronoi\n"
     ]
    },
    {
     "name": "stderr",
     "output_type": "stream",
     "text": [
      "38it [00:00, 40.76it/s]\n"
     ]
    },
    {
     "ename": "QhullError",
     "evalue": "QH6154 Qhull precision error: Initial simplex is flat (facet 1 is coplanar with the interior point)\n\nWhile executing:  | qhull d Q12 Qz Qc Qt Qbb\nOptions selected for Qhull 2019.1.r 2019/06/21:\n  run-id 2145456857  delaunay  Q12-allow-wide  Qz-infinity-point\n  Qcoplanar-keep  Qtriangulate  Qbbound-last  _pre-merge  _zero-centrum\n  Qinterior-keep  Pgood  _max-width 59  Error-roundoff 1.3e-12\n  _one-merge 1.2e-11  Visible-distance 7.8e-12  U-max-coplanar 7.8e-12\n  Width-outside 1.6e-11  _wide-facet 4.7e-11  _maxoutside 1.6e-11\n\nprecision problems (corrected unless 'Q0' or an error)\n      1 zero divisors during gaussian elimination\n\nThe input to qhull appears to be less than 4 dimensional, or a\ncomputation has overflowed.\n\nQhull could not construct a clearly convex simplex from points:\n- p1(v5): 6.2e+02 2.4e+02 3.6e+02 2e+02\n- p6(v4): 6.1e+02 2.4e+02 3.6e+02 6.5e+02\n- p3(v3): 6.4e+02 2.4e+02 3.6e+02 3e+02\n- p2(v2): 6.5e+02 2.4e+02 3.6e+02 3.5e+02\n- p0(v1): 5.9e+02 2.4e+02 3.6e+02     0\n\nThe center point is coplanar with a facet, or a vertex is coplanar\nwith a neighboring facet.  The maximum round off error for\ncomputing distances is 1.3e-12.  The center point, facets and distances\nto the center point are as follows:\n\ncenter point      621    240.1    362.3    300.3\n\nfacet p6 p3 p2 p0 distance= 4.3e-14\nfacet p1 p3 p2 p0 distance= 5.7e-14\nfacet p1 p6 p2 p0 distance= -1.4e-14\nfacet p1 p6 p3 p0 distance= 1.4e-14\nfacet p1 p6 p3 p2 distance= -4.3e-14\n\nThese points either have a maximum or minimum x-coordinate, or\nthey maximize the determinant for k coordinates.  Trial points\nare first selected from points that maximize a coordinate.\n\nThe min and max coordinates for each dimension are:\n  0:     586.8     646.1  difference= 59.33\n  1:     239.5     240.5  difference=    1\n  2:     361.5       363  difference=  1.5\n  3:         0     646.1  difference= 646.1\n\nIf the input should be full dimensional, you have several options that\nmay determine an initial simplex:\n  - use 'QJ'  to joggle the input and make it full dimensional\n  - use 'QbB' to scale the points to the unit cube\n  - use 'QR0' to randomly rotate the input for different maximum points\n  - use 'Qs'  to search all points for the initial simplex\n  - use 'En'  to specify a maximum roundoff error less than 1.3e-12.\n  - trace execution with 'T3' to see the determinant for each point.\n\nIf the input is lower dimensional:\n  - use 'QJ' to joggle the input and make it full dimensional\n  - use 'Qbk:0Bk:0' to delete coordinate k from the input.  You should\n    pick the coordinate with the least range.  The hull will have the\n    correct topology.\n  - determine the flat containing the points, rotate the points\n    into a coordinate plane, and delete the other coordinates.\n  - add one or more points to make the input full dimensional.\n",
     "output_type": "error",
     "traceback": [
      "\u001b[0;31m---------------------------------------------------------------------------\u001b[0m",
      "\u001b[0;31mQhullError\u001b[0m                                Traceback (most recent call last)",
      "\u001b[0;32m<ipython-input-10-c6d269ad0483>\u001b[0m in \u001b[0;36m<module>\u001b[0;34m\u001b[0m\n\u001b[1;32m      2\u001b[0m \u001b[0;31m# IMAGE.\u001b[0m\u001b[0;34m\u001b[0m\u001b[0;34m\u001b[0m\u001b[0;34m\u001b[0m\u001b[0m\n\u001b[1;32m      3\u001b[0m \u001b[0;34m\u001b[0m\u001b[0m\n\u001b[0;32m----> 4\u001b[0;31m prop = cell_property_extraction.get_cell_properties(\n\u001b[0m\u001b[1;32m      5\u001b[0m     \u001b[0mspheroid_image\u001b[0m\u001b[0;34m,\u001b[0m\u001b[0;34m\u001b[0m\u001b[0;34m\u001b[0m\u001b[0m\n\u001b[1;32m      6\u001b[0m     \u001b[0mmask_channel\u001b[0m \u001b[0;34m=\u001b[0m \u001b[0;36m3\u001b[0m\u001b[0;34m,\u001b[0m\u001b[0;34m\u001b[0m\u001b[0;34m\u001b[0m\u001b[0m\n",
      "\u001b[0;32m~/anaconda3/lib/python3.8/site-packages/griottes/analyse/cell_property_extraction.py\u001b[0m in \u001b[0;36mget_cell_properties\u001b[0;34m(image, mask_channel, analyze_fluo_channels, fluo_channel_analysis_method, cell_geometry_properties, labeled_voronoi_tesselation, radius, min_area, percentile, ndim)\u001b[0m\n\u001b[1;32m    490\u001b[0m                 \u001b[0;31m# properties.index = np.arange(len(properties))\u001b[0m\u001b[0;34m\u001b[0m\u001b[0;34m\u001b[0m\u001b[0;34m\u001b[0m\u001b[0m\n\u001b[1;32m    491\u001b[0m \u001b[0;34m\u001b[0m\u001b[0m\n\u001b[0;32m--> 492\u001b[0;31m                 \u001b[0;32mreturn\u001b[0m \u001b[0mproperties\u001b[0m\u001b[0;34m,\u001b[0m \u001b[0mlabel_matrix\u001b[0m\u001b[0;34m\u001b[0m\u001b[0;34m\u001b[0m\u001b[0m\n\u001b[0m\u001b[1;32m    493\u001b[0m \u001b[0;34m\u001b[0m\u001b[0m\n\u001b[1;32m    494\u001b[0m             \u001b[0;32melse\u001b[0m\u001b[0;34m:\u001b[0m\u001b[0;34m\u001b[0m\u001b[0;34m\u001b[0m\u001b[0m\n",
      "\u001b[0;32m~/anaconda3/lib/python3.8/site-packages/griottes/analyse/cell_property_extraction.py\u001b[0m in \u001b[0;36mvoronoi_fluo_property_analysis\u001b[0;34m(properties, image, mask_channel, radius, labeled_voronoi_tesselation, percentile)\u001b[0m\n\u001b[1;32m    318\u001b[0m     \"\"\"\n\u001b[1;32m    319\u001b[0m \u001b[0;34m\u001b[0m\u001b[0m\n\u001b[0;32m--> 320\u001b[0;31m     \u001b[0mlabel_matrix\u001b[0m \u001b[0;34m=\u001b[0m \u001b[0mmake_voronoi_mask\u001b[0m\u001b[0;34m(\u001b[0m\u001b[0mproperties\u001b[0m\u001b[0;34m,\u001b[0m \u001b[0mimage\u001b[0m\u001b[0;34m,\u001b[0m \u001b[0mmask_channel\u001b[0m\u001b[0;34m,\u001b[0m \u001b[0mradius\u001b[0m\u001b[0;34m)\u001b[0m\u001b[0;34m\u001b[0m\u001b[0;34m\u001b[0m\u001b[0m\n\u001b[0m\u001b[1;32m    321\u001b[0m \u001b[0;34m\u001b[0m\u001b[0m\n\u001b[1;32m    322\u001b[0m     \u001b[0;32mfor\u001b[0m \u001b[0mi\u001b[0m \u001b[0;32min\u001b[0m \u001b[0mrange\u001b[0m\u001b[0;34m(\u001b[0m\u001b[0;36m0\u001b[0m\u001b[0;34m,\u001b[0m \u001b[0mimage\u001b[0m\u001b[0;34m.\u001b[0m\u001b[0mshape\u001b[0m\u001b[0;34m[\u001b[0m\u001b[0;34m-\u001b[0m\u001b[0;36m1\u001b[0m\u001b[0;34m]\u001b[0m\u001b[0;34m,\u001b[0m \u001b[0;36m1\u001b[0m\u001b[0;34m)\u001b[0m\u001b[0;34m:\u001b[0m\u001b[0;34m\u001b[0m\u001b[0;34m\u001b[0m\u001b[0m\n",
      "\u001b[0;32m~/anaconda3/lib/python3.8/site-packages/griottes/analyse/cell_property_extraction.py\u001b[0m in \u001b[0;36mmake_voronoi_mask\u001b[0;34m(properties, image, mask_channel, radius)\u001b[0m\n\u001b[1;32m    267\u001b[0m         \u001b[0mpoints_in_sphere\u001b[0m \u001b[0;34m=\u001b[0m \u001b[0mnp\u001b[0m\u001b[0;34m.\u001b[0m\u001b[0margwhere\u001b[0m\u001b[0;34m(\u001b[0m\u001b[0mspherical_mask\u001b[0m\u001b[0;34m)\u001b[0m\u001b[0;34m\u001b[0m\u001b[0;34m\u001b[0m\u001b[0m\n\u001b[1;32m    268\u001b[0m \u001b[0;34m\u001b[0m\u001b[0m\n\u001b[0;32m--> 269\u001b[0;31m         \u001b[0msphere_points_in_vor\u001b[0m \u001b[0;34m=\u001b[0m \u001b[0min_hull\u001b[0m\u001b[0;34m(\u001b[0m\u001b[0mpoints_in_sphere\u001b[0m\u001b[0;34m,\u001b[0m \u001b[0mvertice_array\u001b[0m\u001b[0;34m)\u001b[0m\u001b[0;34m\u001b[0m\u001b[0;34m\u001b[0m\u001b[0m\n\u001b[0m\u001b[1;32m    270\u001b[0m \u001b[0;34m\u001b[0m\u001b[0m\n\u001b[1;32m    271\u001b[0m         \u001b[0;31m# creating the label matrix\u001b[0m\u001b[0;34m\u001b[0m\u001b[0;34m\u001b[0m\u001b[0;34m\u001b[0m\u001b[0m\n",
      "\u001b[0;32m~/anaconda3/lib/python3.8/site-packages/griottes/analyse/cell_property_extraction.py\u001b[0m in \u001b[0;36min_hull\u001b[0;34m(p, hull)\u001b[0m\n\u001b[1;32m    222\u001b[0m \u001b[0;34m\u001b[0m\u001b[0m\n\u001b[1;32m    223\u001b[0m     \u001b[0;32mif\u001b[0m \u001b[0;32mnot\u001b[0m \u001b[0misinstance\u001b[0m\u001b[0;34m(\u001b[0m\u001b[0mhull\u001b[0m\u001b[0;34m,\u001b[0m \u001b[0mDelaunay\u001b[0m\u001b[0;34m)\u001b[0m\u001b[0;34m:\u001b[0m\u001b[0;34m\u001b[0m\u001b[0;34m\u001b[0m\u001b[0m\n\u001b[0;32m--> 224\u001b[0;31m         \u001b[0mhull\u001b[0m \u001b[0;34m=\u001b[0m \u001b[0mDelaunay\u001b[0m\u001b[0;34m(\u001b[0m\u001b[0mhull\u001b[0m\u001b[0;34m)\u001b[0m\u001b[0;34m\u001b[0m\u001b[0;34m\u001b[0m\u001b[0m\n\u001b[0m\u001b[1;32m    225\u001b[0m \u001b[0;34m\u001b[0m\u001b[0m\n\u001b[1;32m    226\u001b[0m     \u001b[0;32mreturn\u001b[0m \u001b[0mhull\u001b[0m\u001b[0;34m.\u001b[0m\u001b[0mfind_simplex\u001b[0m\u001b[0;34m(\u001b[0m\u001b[0mp\u001b[0m\u001b[0;34m)\u001b[0m \u001b[0;34m>=\u001b[0m \u001b[0;36m0\u001b[0m\u001b[0;34m\u001b[0m\u001b[0;34m\u001b[0m\u001b[0m\n",
      "\u001b[0;32mqhull.pyx\u001b[0m in \u001b[0;36mscipy.spatial.qhull.Delaunay.__init__\u001b[0;34m()\u001b[0m\n",
      "\u001b[0;32mqhull.pyx\u001b[0m in \u001b[0;36mscipy.spatial.qhull._Qhull.__init__\u001b[0;34m()\u001b[0m\n",
      "\u001b[0;31mQhullError\u001b[0m: QH6154 Qhull precision error: Initial simplex is flat (facet 1 is coplanar with the interior point)\n\nWhile executing:  | qhull d Q12 Qz Qc Qt Qbb\nOptions selected for Qhull 2019.1.r 2019/06/21:\n  run-id 2145456857  delaunay  Q12-allow-wide  Qz-infinity-point\n  Qcoplanar-keep  Qtriangulate  Qbbound-last  _pre-merge  _zero-centrum\n  Qinterior-keep  Pgood  _max-width 59  Error-roundoff 1.3e-12\n  _one-merge 1.2e-11  Visible-distance 7.8e-12  U-max-coplanar 7.8e-12\n  Width-outside 1.6e-11  _wide-facet 4.7e-11  _maxoutside 1.6e-11\n\nprecision problems (corrected unless 'Q0' or an error)\n      1 zero divisors during gaussian elimination\n\nThe input to qhull appears to be less than 4 dimensional, or a\ncomputation has overflowed.\n\nQhull could not construct a clearly convex simplex from points:\n- p1(v5): 6.2e+02 2.4e+02 3.6e+02 2e+02\n- p6(v4): 6.1e+02 2.4e+02 3.6e+02 6.5e+02\n- p3(v3): 6.4e+02 2.4e+02 3.6e+02 3e+02\n- p2(v2): 6.5e+02 2.4e+02 3.6e+02 3.5e+02\n- p0(v1): 5.9e+02 2.4e+02 3.6e+02     0\n\nThe center point is coplanar with a facet, or a vertex is coplanar\nwith a neighboring facet.  The maximum round off error for\ncomputing distances is 1.3e-12.  The center point, facets and distances\nto the center point are as follows:\n\ncenter point      621    240.1    362.3    300.3\n\nfacet p6 p3 p2 p0 distance= 4.3e-14\nfacet p1 p3 p2 p0 distance= 5.7e-14\nfacet p1 p6 p2 p0 distance= -1.4e-14\nfacet p1 p6 p3 p0 distance= 1.4e-14\nfacet p1 p6 p3 p2 distance= -4.3e-14\n\nThese points either have a maximum or minimum x-coordinate, or\nthey maximize the determinant for k coordinates.  Trial points\nare first selected from points that maximize a coordinate.\n\nThe min and max coordinates for each dimension are:\n  0:     586.8     646.1  difference= 59.33\n  1:     239.5     240.5  difference=    1\n  2:     361.5       363  difference=  1.5\n  3:         0     646.1  difference= 646.1\n\nIf the input should be full dimensional, you have several options that\nmay determine an initial simplex:\n  - use 'QJ'  to joggle the input and make it full dimensional\n  - use 'QbB' to scale the points to the unit cube\n  - use 'QR0' to randomly rotate the input for different maximum points\n  - use 'Qs'  to search all points for the initial simplex\n  - use 'En'  to specify a maximum roundoff error less than 1.3e-12.\n  - trace execution with 'T3' to see the determinant for each point.\n\nIf the input is lower dimensional:\n  - use 'QJ' to joggle the input and make it full dimensional\n  - use 'Qbk:0Bk:0' to delete coordinate k from the input.  You should\n    pick the coordinate with the least range.  The hull will have the\n    correct topology.\n  - determine the flat containing the points, rotate the points\n    into a coordinate plane, and delete the other coordinates.\n  - add one or more points to make the input full dimensional.\n"
     ]
    }
   ]   
   },
   {
   "cell_type": "code",
   "execution_count": null,
   "id": "4bdcbc3d",
   "metadata": {},
   "outputs": [],
   "source": [
    "### THIS DOENS'T WORK - return an empty table. \n",
    "### TO BE FIXED!\n",
    "\n",
    "print(total_image.shape)\n",
    "spheroid_image = total_image[:, 200:400, 300:500,]\n",
    "\n",
    "prop = cell_property_extraction.get_cell_properties(\n",
    "    spheroid_image,\n",
    "    mask_channel = 3,\n",
    "    analyze_fluo_channels = True,\n",
    "    fluo_channel_analysis_method = 'local_voronoi',\n",
    "    cell_geometry_properties = True,\n",
    "    radius = 35,\n",
    "    labeled_voronoi_tesselation = False,\n",
    "    percentile = 95,\n",
    "    min_area = 50\n",
    "    )"
   ]
  },
  {
   "cell_type": "code",
   "execution_count": null,
   "id": "4bda0274",
   "metadata": {},
   "outputs": [],
   "source": [
    "table = pd.read_csv('3D_spheroid_cell_coordinates.csv')\n",
    "table"
   ]
  },
  {
   "cell_type": "markdown",
   "metadata": {},
   "source": [
    "From the extracted positions of the cell centers, it is possible to generate a network representation of the 3D spheroid. For practical purposes, we have saved the dataframe containing the previously extracted information which is re-used below.\n",
    "\n",
    "For illustration purposes we decide to attribute different cell types depending on the fluorescence measured within the mask. Any cell which mean_intensity_1 is above the median is considered CD146+, otherwise it is CD146-."
   ]
  },
  {
   "cell_type": "code",
   "execution_count": null,
   "metadata": {},
   "outputs": [],
   "source": [
    "def get_cell_type(prop_table:pd.DataFrame):\n",
    "    prop = prop_table.copy()\n",
    "    prop['cell_type'] = (prop.mean_intensity_1 > prop.mean_intensity_1.median()).astype(int)\n",
    "    prop.index = np.arange(len(prop))\n",
    "\n",
    "    legend_list = ['CD146-', 'CD146+']\n",
    "    prop['legend'] = [legend_list[prop.loc[i, 'cell_type']] for i in range(len(prop))]\n",
    "\n",
    "    color_list = [plt.cm.Set3(i) for i in range(2)]\n",
    "    prop['color'] = [color_list[prop.loc[i, 'cell_type']] for i in range(len(prop))]\n",
    "\n",
    "    return prop"
   ]
  },
  {
   "cell_type": "code",
   "execution_count": null,
   "id": "847e0c5c",
   "metadata": {},
   "outputs": [],
   "source": [
    "prop = get_cell_type(table)"
   ]
  },
  {
   "cell_type": "markdown",
   "metadata": {},
   "source": [
    "# Delaunay-based network construction"
   ]
  },
  {
   "cell_type": "code",
   "execution_count": null,
   "metadata": {},
   "outputs": [],
   "source": [
    "descriptors = ['x', 'y', 'legend', 'color', 'cell_type']\n",
    "\n",
    "G = graph_generation_func.generate_delaunay_graph(prop, \n",
    "                                                 descriptors = descriptors, \n",
    "                                                 distance = 100,\n",
    "                                                 )"
   ]
  },
  {
   "cell_type": "markdown",
   "metadata": {},
   "source": [
    "From the graph G it is possible to plot a visual representation of the network. Griottes contains several specific plotting functions adapted for the network representation of tisssues. These functions are called through the graph_plot module. Here we call a specific function for 3D plots."
   ]
  },
  {
   "cell_type": "code",
   "execution_count": null,
   "metadata": {},
   "outputs": [],
   "source": [
    "graph_plot.network_plot_3D(G, \n",
    "                figsize = (7, 7),\n",
    "                alpha_line=0.6,\n",
    "                scatterpoint_size=10,\n",
    "                legend=True,\n",
    "                legend_fontsize = 18,\n",
    "                theta = -0,\n",
    "                psi = -0,\n",
    "                xlim = (prop.x.min() - 5, prop.x.max() + 5),\n",
    "                ylim = (prop.y.min() - 5, prop.y.max() + 5),\n",
    "                zlim = (prop.z.min() - 5, prop.z.max() + 5))"
   ]
  },
  {
   "cell_type": "code",
   "execution_count": null,
   "id": "bdabbc3a",
   "metadata": {},
   "outputs": [],
   "source": []
  }
 ],
 "metadata": {
  "kernelspec": {
   "display_name": "Python 3",
   "language": "python",
   "name": "python3"
  },
  "language_info": {
   "codemirror_mode": {
    "name": "ipython",
    "version": 3
   },
   "file_extension": ".py",
   "mimetype": "text/x-python",
   "name": "python",
   "nbconvert_exporter": "python",
   "pygments_lexer": "ipython3",
   "version": "3.8.5"
  }
 },
 "nbformat": 4,
 "nbformat_minor": 5
}
