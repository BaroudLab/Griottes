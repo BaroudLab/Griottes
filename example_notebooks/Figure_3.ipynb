{
 "cells": [
  {
   "cell_type": "code",
   "execution_count": null,
   "metadata": {},
   "outputs": [],
   "source": [
    "import tifffile\n",
    "import pandas\n",
    "import os \n",
    "import numpy as np\n",
    "from collections import Counter\n",
    "import networkx as nx\n",
    "import matplotlib.pyplot as plt\n",
    "import seaborn as sns\n",
    "\n",
    "from griottes.analyse import cell_property_extraction\n",
    "from griottes.graphmaker import graph_generation_func\n",
    "from griottes.graphplotter import graph_plot\n",
    "import griottes\n",
    "\n",
    "import urllib3\n",
    "import shutil"
   ]
  },
  {
   "cell_type": "markdown",
   "metadata": {},
   "source": [
    "# Load image and mask of nuclei\n",
    "\n",
    "From the image we can extract the single cell information. For the analysis, it is necessary that the channels be structured as $C \\times Z \\times Y \\times X$, where $C$ is the fluorescence channels in a multi-channel image.\n",
    "\n",
    "The file `3D_spheroid_multichannel_image.tiff` can be downloaded from by executing the box below."
   ]
  },
  {
   "cell_type": "code",
   "execution_count": null,
   "metadata": {},
   "outputs": [],
   "source": [
    "\n",
    "url = 'https://github.com/BaroudLab/Griottes/releases/download/v1.0-alpha/3D_spheroid_multichannel_image.tif'\n",
    "filename = '3D_spheroid_multichannel_image.tif'\n",
    "\n",
    "if not os.path.exists(filename):\n",
    "    c = urllib3.PoolManager()\n",
    "\n",
    "    with c.request('GET',url, preload_content=False) as resp, open(filename, 'wb') as out_file:\n",
    "        shutil.copyfileobj(resp, out_file)\n",
    "\n",
    "    resp.release_conn()\n",
    "else:\n",
    "    print('dataset already exists')"
   ]
  },
  {
   "cell_type": "code",
   "execution_count": null,
   "metadata": {},
   "outputs": [],
   "source": [
    "spheroid_image = tifffile.imread('3D_spheroid_multichannel_image.tif')"
   ]
  },
  {
   "cell_type": "markdown",
   "metadata": {},
   "source": [
    "# Extract single-cell information from the image\n",
    "\n",
    "One can extract properties from the cells by running the `cell_property_extraction.get_cell_properties` module.\n",
    "\n",
    "## Extracting single-cell fluorescence data\n",
    " \n",
    "This is done by setting `analyze_fluo_channels` to `True`. Then multiple methods exist to measure the fluorescence proper. They are tuned by modifying `fluo_channel_analysis_method` option to `basic`, `local_voronoi` or `local_sphere`.\n",
    "\n",
    " - `basic` measures the fluorescence inside the cell mask. This method relies on the `skimage.regionprops` and is the quickest of the three.\n",
    "\n",
    " - `local_voronoi` generates a Voronoi tesselation of the tissue and measures the fluorescence inside the cell voxel.\n",
    "\n",
    " - `local_sphere` measures the fluorescence within a sphere of radius `radius` around the cell center."
   ]
  },
  {
   "cell_type": "code",
   "execution_count": null,
   "metadata": {},
   "outputs": [],
   "source": [
    "prop = cell_property_extraction.get_cell_properties(\n",
    "    spheroid_image,\n",
    "    mask_channel = 3,\n",
    "    analyze_fluo_channels = True,\n",
    "    fluo_channel_analysis_method = 'basic',\n",
    "    percentile = 10\n",
    "    )"
   ]
  },
  {
   "cell_type": "markdown",
   "metadata": {},
   "source": [
    "## Extracting geometric data\n",
    " \n",
    "This is done by setting `cell_geometry_properties` to `True`. "
   ]
  },
  {
   "cell_type": "code",
   "execution_count": null,
   "metadata": {},
   "outputs": [],
   "source": [
    "prop = cell_property_extraction.get_cell_properties(\n",
    "    spheroid_image,\n",
    "    mask_channel = 3,\n",
    "    analyze_fluo_channels = False,\n",
    "    cell_geometry_properties = True,\n",
    "    )"
   ]
  },
  {
   "cell_type": "markdown",
   "metadata": {},
   "source": [
    "This module possesses multiple other options accessible by calling:"
   ]
  },
  {
   "cell_type": "code",
   "execution_count": null,
   "metadata": {},
   "outputs": [],
   "source": [
    "help(cell_property_extraction.get_cell_properties)"
   ]
  },
  {
   "cell_type": "markdown",
   "metadata": {},
   "source": [
    "# Network representation of tissues in 3D\n",
    "\n",
    "From the extracted positions of the cell centers, it is possible to generate a network representation of the 3D spheroid. We have extracted the positions and properties of multiple spheroids that are available by executing the cells immediately below. These MSC spheroids have been incubated for 29 hours before being imaged and we detect cell type by comparing the intensity of the staining.\n",
    "\n",
    "For illustration purposes we decide to attribute different cell types depending on the fluorescence measured within the mask. Any cell which `mean_intensity_1` is above the median is considered CD146+, otherwise it is CD146-."
   ]
  },
  {
   "cell_type": "code",
   "execution_count": null,
   "metadata": {},
   "outputs": [],
   "source": [
    "url = 'https://github.com/BaroudLab/Griottes/releases/download/v1.0-alpha/single_spheroid_data.csv'\n",
    "filename = 'single_spheroid_data.csv'\n",
    "\n",
    "if not os.path.exists(filename):\n",
    "    c = urllib3.PoolManager()\n",
    "\n",
    "    with c.request('GET',url, preload_content=False) as resp, open(filename, 'wb') as out_file:\n",
    "        shutil.copyfileobj(resp, out_file)\n",
    "\n",
    "    resp.release_conn()\n",
    "else:\n",
    "    print('dataset already exists')"
   ]
  },
  {
   "cell_type": "code",
   "execution_count": null,
   "metadata": {},
   "outputs": [],
   "source": [
    "single_spheroid_data = pandas.read_csv('single_spheroid_data.csv')"
   ]
  },
  {
   "cell_type": "code",
   "execution_count": null,
   "metadata": {},
   "outputs": [],
   "source": [
    "single_spheroid_data['cell_type'] = (single_spheroid_data.mean_intensity_1 > single_spheroid_data.mean_intensity_1.median()).astype(int)\n",
    "single_spheroid_data.index = np.arange(len(single_spheroid_data))\n",
    "\n",
    "legend_list = ['CD146-', 'CD146+']\n",
    "single_spheroid_data['legend'] = [legend_list[single_spheroid_data.loc[i, 'cell_type']] for i in range(len(single_spheroid_data))]\n",
    "\n",
    "color_list = [plt.cm.Set3(i) for i in range(2)]\n",
    "single_spheroid_data['color'] = [color_list[single_spheroid_data.loc[i, 'cell_type']] for i in range(len(single_spheroid_data))]\n"
   ]
  },
  {
   "cell_type": "markdown",
   "metadata": {},
   "source": [
    "## Delaunay-based network construction\n",
    "\n",
    "To represent the spheroid from point-data we use the Delaunay-rule to build the spheroid."
   ]
  },
  {
   "cell_type": "code",
   "execution_count": null,
   "metadata": {},
   "outputs": [],
   "source": [
    "descriptors = ['x', 'y', 'legend', 'color', 'cell_type']\n",
    "\n",
    "G = graph_generation_func.generate_delaunay_graph(single_spheroid_data, \n",
    "                                                 descriptors = descriptors, \n",
    "                                                 distance = 100,\n",
    "                                                 image_is_2D = False)"
   ]
  },
  {
   "cell_type": "markdown",
   "metadata": {},
   "source": [
    "From the graph G it is possible to plot a visual representation of the network. Griottes contains several specific plotting functions adapted for the network representation of tisssues. These functions are called through the graph_plot module. Here we call a specific function for 3D plots."
   ]
  },
  {
   "cell_type": "code",
   "execution_count": null,
   "metadata": {},
   "outputs": [],
   "source": [
    "graph_plot.network_plot_3D(G, \n",
    "                figsize = (7, 7),\n",
    "                alpha_line=0.6,\n",
    "                scatterpoint_size=10,\n",
    "                legend=True,\n",
    "                legend_fontsize = 18,\n",
    "                theta = -0,\n",
    "                psi = -0,\n",
    "                xlim = (prop.x.min() - 5, prop.x.max() + 5),\n",
    "                ylim = (prop.y.min() - 5, prop.y.max() + 5),\n",
    "                zlim = (prop.z.min() - 5, prop.z.max() + 5))"
   ]
  },
  {
   "cell_type": "markdown",
   "metadata": {},
   "source": [
    "## Attributing layers to spheroids\n",
    "\n",
    "Each cell can be attributed a layer corresponding to the number of links connects each cell to a cell on the outside of the spheroid."
   ]
  },
  {
   "cell_type": "code",
   "execution_count": null,
   "metadata": {},
   "outputs": [],
   "source": [
    "G = graph_generation_func.attribute_layer(G)\n",
    "\n",
    "layer_dict = nx.get_node_attributes(G, 'layer')\n",
    "\n",
    "for ind in single_spheroid_data.index:\n",
    "    single_spheroid_data.loc[ind, 'layer'] = int(layer_dict[ind])\n",
    "\n",
    "for ind in single_spheroid_data.index:\n",
    "    \n",
    "    if single_spheroid_data.loc[ind, 'layer'] < 2:\n",
    "        \n",
    "        single_spheroid_data.loc[ind, 'color'] = 'r'\n",
    "        single_spheroid_data.loc[ind, 'legend'] = 'Outer layer'\n",
    "        \n",
    "    else:\n",
    "        \n",
    "        single_spheroid_data.loc[ind, 'color'] = 'b'\n",
    "        single_spheroid_data.loc[ind, 'legend'] = 'Inner layers'\n",
    "        \n",
    "descriptors = ['x', 'y', 'legend', 'color', 'cell_type']\n",
    "\n",
    "G = graph_generation_func.generate_delaunay_graph(single_spheroid_data, \n",
    "                                                 descriptors = descriptors, \n",
    "                                                 distance = 100)"
   ]
  },
  {
   "cell_type": "code",
   "execution_count": null,
   "metadata": {},
   "outputs": [],
   "source": [
    "graph_plot.network_plot_3D(G, \n",
    "                figsize = (7, 7),\n",
    "                alpha_line=0.6,\n",
    "                scatterpoint_size=10,\n",
    "                legend=True,\n",
    "                legend_fontsize = 18,\n",
    "                theta = -0,\n",
    "                psi = -0,\n",
    "                xlim = (prop.x.min() - 5, prop.x.max() + 5),\n",
    "                ylim = (prop.y.min() - 5, prop.y.max() + 5),\n",
    "                zlim = (prop.z.min() - 5, prop.z.max() + 5))"
   ]
  },
  {
   "cell_type": "markdown",
   "metadata": {},
   "source": [
    "# Comparing graph properties between spheroids\n",
    "\n",
    "We download single-cell data from multiple MSC spheroids that have incubated for 29 hours. This will allow us to look at spheroid to spheroid variability within the experiment."
   ]
  },
  {
   "cell_type": "code",
   "execution_count": null,
   "metadata": {},
   "outputs": [],
   "source": [
    "url = 'https://github.com/BaroudLab/Griottes/releases/download/v1.0-alpha/multiple_spheroid_data_t29.csv'\n",
    "filename = 'multiple_spheroid_data_t29.csv'\n",
    "\n",
    "if not os.path.exists(filename):\n",
    "    c = urllib3.PoolManager()\n",
    "\n",
    "    with c.request('GET',url, preload_content=False) as resp, open(filename, 'wb') as out_file:\n",
    "        shutil.copyfileobj(resp, out_file)\n",
    "\n",
    "    resp.release_conn()\n",
    "else:\n",
    "    print('dataset already exists')\n",
    "    \n",
    "multiple_spheroid_data = pandas.read_csv('multiple_spheroid_data_t29.csv')"
   ]
  },
  {
   "cell_type": "code",
   "execution_count": null,
   "metadata": {},
   "outputs": [],
   "source": [
    "def make_graphs(dataframe,\n",
    "                descriptors,\n",
    "                distance = 70):\n",
    "    \n",
    "    graph_list = []\n",
    "    \n",
    "    for spheroid_number in dataframe.spheroid_number.unique():\n",
    "        \n",
    "        loc_frame = dataframe[dataframe.spheroid_number == spheroid_number]\n",
    "        \n",
    "        G = graph_generation_func.generate_delaunay_graph(single_spheroid_data, \n",
    "                                                 descriptors = descriptors, \n",
    "                                                 distance = distance)\n",
    "\n",
    "        G = graph_generation_func.attribute_layer(G)\n",
    "\n",
    "        layer_dict = nx.get_node_attributes(G, 'layer')\n",
    "        \n",
    "        graph_list.append(G)\n",
    "    \n",
    "    return graph_list\n",
    "\n",
    "def get_neighbour_properties(G,\n",
    "                             neighbour_descriptor):\n",
    "    \n",
    "    \"\"\"\n",
    "    \n",
    "    This function iterates through the cells composing the spheroid\n",
    "    and records the distribution of features with regard to each other\n",
    "    in the tissue.\n",
    "    \n",
    "    \"\"\"\n",
    "\n",
    "    resultframe = pandas.DataFrame()\n",
    "    i = 0\n",
    "        \n",
    "    neighbour_descriptors = nx.get_node_attributes(G, neighbour_descriptor)\n",
    "\n",
    "    for node in G.nodes:\n",
    "        \n",
    "        resultframe.loc[i, 'label'] = node\n",
    "        resultframe.loc[i, neighbour_descriptor] = neighbour_descriptors[node]\n",
    "        resultframe.loc[i, 'degree'] = len([n for n in G.neighbors(node)])\n",
    "        \n",
    "        neighbour_props = [neighbour_descriptors[n] for n in G.neighbors(node)]\n",
    "        neighbour_props_counter = Counter(neighbour_props)\n",
    "                \n",
    "        for key in neighbour_props_counter.keys():\n",
    "            resultframe.loc[i, key] = neighbour_props_counter[key]\n",
    "            \n",
    "        i += 1\n",
    "\n",
    "    return resultframe.fillna(0)\n"
   ]
  },
  {
   "cell_type": "markdown",
   "metadata": {},
   "source": [
    "Here we choose to compare the degree distribution between spheroids."
   ]
  },
  {
   "cell_type": "code",
   "execution_count": null,
   "metadata": {},
   "outputs": [],
   "source": [
    "descriptors = ['mean_intensity_1', 'color', 'legend']\n",
    "\n",
    "legend_list = ['CD146-', 'CD146+']\n",
    "multiple_spheroid_data['legend'] = [legend_list[multiple_spheroid_data.loc[i, 'color_int']] for i in range(len(multiple_spheroid_data))]\n",
    "\n",
    "color_list = [plt.cm.Set2(i) for i in range(2)]\n",
    "multiple_spheroid_data['color'] = [color_list[multiple_spheroid_data.loc[i, 'color_int']] for i in range(len(multiple_spheroid_data))]\n",
    "\n",
    "graph_list = make_graphs(multiple_spheroid_data,descriptors)"
   ]
  },
  {
   "cell_type": "code",
   "execution_count": null,
   "metadata": {},
   "outputs": [],
   "source": [
    "all_graph_neighbourhood_props = pandas.DataFrame()\n",
    "\n",
    "for graph in graph_list:\n",
    "    \n",
    "    loc_neighbourhood_props = get_neighbour_properties(graph,\n",
    "                             neighbour_descriptor = 'legend')\n",
    "    all_graph_neighbourhood_props = all_graph_neighbourhood_props.append(loc_neighbourhood_props)\n",
    "    \n"
   ]
  },
  {
   "cell_type": "code",
   "execution_count": null,
   "metadata": {},
   "outputs": [],
   "source": [
    "fig, ax = plt.subplots(figsize = (5,4))\n",
    "\n",
    "ax.tick_params(axis='both', which='major', labelsize=14)\n",
    "ax.tick_params(axis='both', which='minor', labelsize=14)\n",
    "\n",
    "g = sns.histplot(loc_neighbourhood_props, \n",
    "             x=\"degree\",\n",
    "             stat = 'probability',\n",
    "             palette='Set2',\n",
    "             kde = False,\n",
    "             cumulative=False,\n",
    "             common_norm=False,\n",
    "             binwidth = 1,\n",
    "             alpha = 0.6)\n",
    "\n",
    "sns.kdeplot(data=all_graph_neighbourhood_props, \n",
    "            x=\"degree\",\n",
    "            c = 'r',\n",
    "            ls = '--',\n",
    "            lw = 4)\n",
    "\n",
    "ax.set_ylabel('probability', fontsize = 15)\n",
    "ax.set_xlabel('degree', fontsize = 15)\n",
    "plt.tight_layout()"
   ]
  }
 ],
 "metadata": {
  "kernelspec": {
   "display_name": "Python 3",
   "language": "python",
   "name": "python3"
  },
  "language_info": {
   "codemirror_mode": {
    "name": "ipython",
    "version": 3
   },
   "file_extension": ".py",
   "mimetype": "text/x-python",
   "name": "python",
   "nbconvert_exporter": "python",
   "pygments_lexer": "ipython3",
   "version": "3.8.5"
  }
 },
 "nbformat": 4,
 "nbformat_minor": 5
}
