{
 "cells": [
  {
   "cell_type": "code",
   "execution_count": null,
   "id": "knowing-shopper",
   "metadata": {},
   "outputs": [],
   "source": [
    "import tifffile\n",
    "import pandas\n",
    "\n",
    "from griottes.analyse import cell_property_extraction\n",
    "from griottes.graphmaker import graph_generation_func\n",
    "from griottes.graphplotter import graph_plot\n",
    "import griottes\n",
    "\n",
    "import numpy as np\n",
    "import matplotlib.pyplot as plt\n",
    "import pandas as pd"
   ]
  },
  {
   "cell_type": "markdown",
   "id": "engaging-trinity",
   "metadata": {},
   "source": [
    "# Load image and mask of nuclei\n",
    "\n",
    "From the image we can extract the single cell information. For the analysis, it is necessary that the channels be structured as $Z \\times X \\times Y \\times C$, where $C$ is the fluorescence channels in a multi-channel image.\n",
    "\n",
    "The file `total_image.tiff` can be downloaded from by executing the box below."
   ]
  },
  {
   "cell_type": "code",
   "execution_count": null,
   "id": "forbidden-sacramento",
   "metadata": {},
   "outputs": [],
   "source": [
    "import urllib3\n",
    "import shutil\n",
    "import os\n",
    "\n",
    "url = 'https://github.com/BaroudLab/Griottes/releases/download/v1.0-alpha/3D_spheroid_multichannel_image.tif'\n",
    "filename = '3D_spheroid_multichannel_image.tif'\n",
    "\n",
    "if not os.path.exists(filename):\n",
    "\n",
    "    c = urllib3.PoolManager()\n",
    "\n",
    "    with c.request('GET',url, preload_content=False) as resp, open(filename, 'wb') as out_file:\n",
    "        shutil.copyfileobj(resp, out_file)\n",
    "\n",
    "    resp.release_conn()\n",
    "    \n",
    "assert os.path.exists(filename)"
   ]
  },
  {
   "cell_type": "markdown",
   "id": "chief-geneva",
   "metadata": {},
   "source": [
    "# Extract single-cell information from the image"
   ]
  },
  {
   "cell_type": "code",
   "execution_count": null,
   "id": "framed-healthcare",
   "metadata": {},
   "outputs": [],
   "source": [
    "# THIS ANDREY IS WHERE I NEED THE BINNED 3D SPHEROID\n",
    "# IMAGE.\n",
    "\n",
    "total_image = tifffile.imread('3D_spheroid_multichannel_image.tif')\n"
   ]
  },
  {
   "cell_type": "code",
   "execution_count": null,
   "id": "4bdcbc3d",
   "metadata": {},
   "outputs": [],
   "source": [
    "### THIS DOENS'T WORK - return an empty table. \n",
    "### TO BE FIXED!\n",
    "\n",
    "print(total_image.shape)\n",
    "spheroid_image = total_image[:, 200:400, 300:500,]\n",
    "\n",
    "prop = cell_property_extraction.get_cell_properties(\n",
    "    spheroid_image,\n",
    "    mask_channel = 3,\n",
    "    analyze_fluo_channels = True,\n",
    "    fluo_channel_analysis_method = 'local_voronoi',\n",
    "    cell_geometry_properties = True,\n",
    "    radius = 35,\n",
    "    labeled_voronoi_tesselation = False,\n",
    "    percentile = 95,\n",
    "    min_area = 400\n",
    "    )"
   ]
  },
  {
   "cell_type": "code",
   "execution_count": null,
   "id": "4bda0274",
   "metadata": {},
   "outputs": [],
   "source": [
    "table = pd.read_csv('3D_spheroid_cell_coordinates.csv')\n",
    "table"
   ]
  },
  {
   "cell_type": "markdown",
   "id": "rotary-librarian",
   "metadata": {},
   "source": [
    "From the extracted positions of the cell centers, it is possible to generate a network representation of the 3D spheroid. For practical purposes, we have saved the dataframe containing the previously extracted information which is re-used below.\n",
    "\n",
    "For illustration purposes we decide to attribute different cell types depending on the fluorescence measured within the mask. Any cell which mean_intensity_1 is above the median is considered CD146+, otherwise it is CD146-."
   ]
  },
  {
   "cell_type": "code",
   "execution_count": null,
   "id": "martial-amber",
   "metadata": {},
   "outputs": [],
   "source": [
    "def get_cell_type(prop_table:pd.DataFrame):\n",
    "    prop = prop_table.copy()\n",
    "    prop['cell_type'] = (prop.mean_intensity_1 > prop.mean_intensity_1.median()).astype(int)\n",
    "    prop.index = np.arange(len(prop))\n",
    "\n",
    "    legend_list = ['CD146-', 'CD146+']\n",
    "    prop['legend'] = [legend_list[prop.loc[i, 'cell_type']] for i in range(len(prop))]\n",
    "\n",
    "    color_list = [plt.cm.Set3(i) for i in range(2)]\n",
    "    prop['color'] = [color_list[prop.loc[i, 'cell_type']] for i in range(len(prop))]\n",
    "\n",
    "    return prop"
   ]
  },
  {
   "cell_type": "code",
   "execution_count": null,
   "id": "847e0c5c",
   "metadata": {},
   "outputs": [],
   "source": [
    "prop = get_cell_type(table)"
   ]
  },
  {
   "cell_type": "markdown",
   "id": "coastal-argument",
   "metadata": {},
   "source": [
    "# Delaunay-based network construction"
   ]
  },
  {
   "cell_type": "code",
   "execution_count": null,
   "id": "0c918287",
   "metadata": {},
   "outputs": [],
   "source": []
  },
  {
   "cell_type": "code",
   "execution_count": null,
   "id": "divided-processing",
   "metadata": {},
   "outputs": [],
   "source": [
    "descriptors = ['x', 'y', 'legend', 'color', 'cell_type']\n",
    "\n",
    "G = graph_generation_func.generate_delaunay_graph(prop, \n",
    "                                                 descriptors = descriptors, \n",
    "                                                 distance = 100,\n",
    "                                                 )"
   ]
  },
  {
   "cell_type": "markdown",
   "id": "removed-chick",
   "metadata": {},
   "source": [
    "From the graph G it is possible to plot a visual representation of the network. Griottes contains several specific plotting functions adapted for the network representation of tisssues. These functions are called through the graph_plot module. Here we call a specific function for 3D plots."
   ]
  },
  {
   "cell_type": "code",
   "execution_count": null,
   "id": "transsexual-reaction",
   "metadata": {},
   "outputs": [],
   "source": [
    "graph_plot.network_plot_3D(G, \n",
    "                figsize = (7, 7),\n",
    "                alpha_line=0.6,\n",
    "                scatterpoint_size=10,\n",
    "                legend=True,\n",
    "                legend_fontsize = 18,\n",
    "                theta = -0,\n",
    "                psi = -0,\n",
    "                xlim = (prop.x.min() - 5, prop.x.max() + 5),\n",
    "                ylim = (prop.y.min() - 5, prop.y.max() + 5),\n",
    "                zlim = (prop.z.min() - 5, prop.z.max() + 5))"
   ]
  },
  {
   "cell_type": "code",
   "execution_count": null,
   "id": "bdabbc3a",
   "metadata": {},
   "outputs": [],
   "source": []
  }
 ],
 "metadata": {
  "kernelspec": {
   "display_name": "Python 3",
   "language": "python",
   "name": "python3"
  },
  "language_info": {
   "codemirror_mode": {
    "name": "ipython",
    "version": 3
   },
   "file_extension": ".py",
   "mimetype": "text/x-python",
   "name": "python",
   "nbconvert_exporter": "python",
   "pygments_lexer": "ipython3",
   "version": "3.9.7"
  }
 },
 "nbformat": 4,
 "nbformat_minor": 5
}
